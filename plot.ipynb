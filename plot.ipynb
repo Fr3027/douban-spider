{
 "cells": [
  {
   "cell_type": "code",
   "execution_count": null,
   "metadata": {},
   "outputs": [
    {
     "name": "stderr",
     "output_type": "stream",
     "text": [
      "/usr/local/var/pyenv/versions/3.7.1/lib/python3.7/site-packages/pandas/compat/__init__.py:97: UserWarning: Could not import the lzma module. Your installed Python is incomplete. Attempting to use lzma compression will result in a RuntimeError.\n",
      "  warnings.warn(msg)\n"
     ]
    }
   ],
   "source": [
    "import numpy as np\n",
    "import matplotlib.pyplot as plt\n",
    "import matplotlib.dates as mdates\n",
    "import matplotlib.cbook as cbook\n",
    "from model.user import User\n",
    "from model.topic import Topic\n",
    "import pandas as pd\n",
    "from utils import Utils"
   ]
  },
  {
   "cell_type": "code",
   "execution_count": 88,
   "metadata": {},
   "outputs": [],
   "source": [
    "from sqlalchemy import func\n",
    "user_topic_count_list  = Utils.get_session().query(Topic.uid,func.count(Topic.id)).group_by(Topic.uid).all()"
   ]
  },
  {
   "cell_type": "code",
   "execution_count": 2,
   "metadata": {},
   "outputs": [],
   "source": [
    "from sqlalchemy import func\n",
    "session = Utils.get_session()\n",
    "good_user_list  = session.query(Topic.uid).group_by(Topic.uid).having(func.count(Topic.id)>=9)"
   ]
  },
  {
   "cell_type": "code",
   "execution_count": 27,
   "metadata": {},
   "outputs": [
    {
     "data": {
      "text/plain": "19006"
     },
     "execution_count": 27,
     "metadata": {},
     "output_type": "execute_result"
    }
   ],
   "source": [
    "session = Utils.get_session()\n",
    "good_user_list  = session.query(User).filter(User.credibility == None).all()\n",
    "uids = [user.uid for user in good_user_list]\n",
    "session.query(Topic).filter(Topic.uid.in_(uids)).count()"
   ]
  },
  {
   "cell_type": "code",
   "execution_count": null,
   "metadata": {},
   "outputs": [],
   "source": [
    "user_topic_count_list  = Utils.get_session().query(Topic.uid,func.count(Topic.id)).filter(Topic.uid.in_(uids)).group_by(Topic.uid).order_by(func.count(Topic.id).desc()).all()"
   ]
  },
  {
   "cell_type": "code",
   "execution_count": 3,
   "metadata": {},
   "outputs": [],
   "source": [
    "from sqlalchemy import func\n",
    "session = Utils.get_session()\n",
    "agent_user_list  = session.query(Topic.uid).group_by(Topic.uid).having(func.count(Topic.id)>=9)\n",
    "uids = [user[0] for user in agent_user_list]\n",
    "valuable_topics = session.query(User).filter(User.uid.in_(uids)).update({\"credibility\":\"agent\"})\n",
    "session.commit()"
   ]
  },
  {
   "cell_type": "code",
   "execution_count": 10,
   "metadata": {},
   "outputs": [],
   "source": [
    "uids = [user[0] for user in good_user_list]\n",
    "valuable_topics = session.query(Topic).filter(Topic.uid.in_(uids)).all()"
   ]
  },
  {
   "cell_type": "code",
   "execution_count": null,
   "metadata": {},
   "outputs": [],
   "source": [
    "count = 0\n",
    "for user in good_user_list:\n",
    "    uid = user[0]\n",
    "    topics  = list(filter(lambda x: x.uid==uid, valuable_topics))\n",
    "    groupname_set  = set()\n",
    "    for topic in topics:\n",
    "        groupname_set.add(topic.groupname)\n",
    "    if len(topics) == len(groupname_set):\n",
    "        count = count +1\n",
    "    else:\n",
    "        session.query(User).filter(User.uid==uid).update({\"credibility\":\"agent\"})\n",
    "session.commit()"
   ]
  },
  {
   "cell_type": "code",
   "execution_count": 95,
   "metadata": {},
   "outputs": [
    {
     "data": {
      "text/html": "\n<script>\n    require.config({\n        paths: {\n            'echarts':'https://assets.pyecharts.org/assets/echarts.min'\n        }\n    });\n</script>\n\n        <div id=\"3be80399d8b64c20be397ad97a68be41\" style=\"width:900px; height:500px;\"></div>\n\n<script>\n        require(['echarts'], function(echarts) {\n                var chart_3be80399d8b64c20be397ad97a68be41 = echarts.init(\n                    document.getElementById('3be80399d8b64c20be397ad97a68be41'), 'dark', {renderer: 'canvas'});\n                var option_3be80399d8b64c20be397ad97a68be41 = {\n    \"animation\": true,\n    \"animationThreshold\": 2000,\n    \"animationDuration\": 1000,\n    \"animationEasing\": \"cubicOut\",\n    \"animationDelay\": 0,\n    \"animationDurationUpdate\": 300,\n    \"animationEasingUpdate\": \"cubicOut\",\n    \"animationDelayUpdate\": 0,\n    \"color\": [\n        \"#c23531\",\n        \"#2f4554\",\n        \"#61a0a8\",\n        \"#d48265\",\n        \"#749f83\",\n        \"#ca8622\",\n        \"#bda29a\",\n        \"#6e7074\",\n        \"#546570\",\n        \"#c4ccd3\",\n        \"#f05b72\",\n        \"#ef5b9c\",\n        \"#f47920\",\n        \"#905a3d\",\n        \"#fab27b\",\n        \"#2a5caa\",\n        \"#444693\",\n        \"#726930\",\n        \"#b2d235\",\n        \"#6d8346\",\n        \"#ac6767\",\n        \"#1d953f\",\n        \"#6950a1\",\n        \"#918597\"\n    ],\n    \"series\": [\n        {\n            \"type\": \"pie\",\n            \"clockwise\": true,\n            \"data\": [\n                {\n                    \"name\": \"1\",\n                    \"value\": 10305\n                },\n                {\n                    \"name\": \"2\",\n                    \"value\": 4150\n                },\n                {\n                    \"name\": \"3\",\n                    \"value\": 2410\n                },\n                {\n                    \"name\": \"4\",\n                    \"value\": 1216\n                },\n                {\n                    \"name\": \"5\",\n                    \"value\": 750\n                },\n                {\n                    \"name\": \"6\",\n                    \"value\": 700\n                },\n                {\n                    \"name\": \"7\",\n                    \"value\": 437\n                },\n                {\n                    \"name\": \"8\",\n                    \"value\": 347\n                },\n                {\n                    \"name\": \"9\",\n                    \"value\": 310\n                },\n                {\n                    \"name\": \"10\",\n                    \"value\": 294\n                },\n                {\n                    \"name\": \"11\",\n                    \"value\": 231\n                },\n                {\n                    \"name\": \"12\",\n                    \"value\": 204\n                },\n                {\n                    \"name\": \"13\",\n                    \"value\": 155\n                },\n                {\n                    \"name\": \"14\",\n                    \"value\": 131\n                },\n                {\n                    \"name\": \"15\",\n                    \"value\": 135\n                },\n                {\n                    \"name\": \"others\",\n                    \"value\": 1911\n                }\n            ],\n            \"radius\": [\n                \"0%\",\n                \"75%\"\n            ],\n            \"center\": [\n                \"50%\",\n                \"50%\"\n            ],\n            \"label\": {\n                \"show\": true,\n                \"position\": \"top\",\n                \"margin\": 8,\n                \"formatter\": \"{b}: {d}%\"\n            },\n            \"rippleEffect\": {\n                \"show\": true,\n                \"brushType\": \"stroke\",\n                \"scale\": 2.5,\n                \"period\": 4\n            }\n        }\n    ],\n    \"legend\": [\n        {\n            \"data\": [\n                \"1\",\n                \"2\",\n                \"3\",\n                \"4\",\n                \"5\",\n                \"6\",\n                \"7\",\n                \"8\",\n                \"9\",\n                \"10\",\n                \"11\",\n                \"12\",\n                \"13\",\n                \"14\",\n                \"15\",\n                \"others\"\n            ],\n            \"selected\": {},\n            \"show\": true,\n            \"padding\": 5,\n            \"itemGap\": 10,\n            \"itemWidth\": 25,\n            \"itemHeight\": 14\n        }\n    ],\n    \"tooltip\": {\n        \"show\": true,\n        \"trigger\": \"item\",\n        \"triggerOn\": \"mousemove|click\",\n        \"axisPointer\": {\n            \"type\": \"line\"\n        },\n        \"showContent\": true,\n        \"alwaysShowContent\": false,\n        \"showDelay\": 0,\n        \"hideDelay\": 100,\n        \"textStyle\": {\n            \"fontSize\": 14\n        },\n        \"borderWidth\": 0,\n        \"padding\": 5\n    },\n    \"title\": [\n        {\n            \"text\": \"\\u7528\\u6237\\u53d1\\u8d34\\u6570\\u5206\\u5e03\",\n            \"padding\": 5,\n            \"itemGap\": 10\n        }\n    ]\n};\n                chart_3be80399d8b64c20be397ad97a68be41.setOption(option_3be80399d8b64c20be397ad97a68be41);\n        });\n    </script>\n",
      "text/plain": "<pyecharts.render.display.HTML at 0x116fefd30>"
     },
     "execution_count": 95,
     "metadata": {},
     "output_type": "execute_result"
    }
   ],
   "source": [
    "from pyecharts.charts import Pie\n",
    "from pyecharts import options as opts\n",
    "\n",
    "# V1 版本开始支持链式调用\n",
    "attr = [str(i+1) for i in range(15)]\n",
    "attr.append(\"others\")\n",
    "v = [sum(user[1] == (i+1) for user in user_topic_count_list) for i in range(15)]\n",
    "v.append(sum(user[1] > 15 for user in user_topic_count_list))\n",
    "\n",
    "pie = (\n",
    "    Pie().add(\"\",[list(z) for z in zip(attr, v)])\n",
    "    .set_global_opts(title_opts=opts.TitleOpts(title=\"用户发贴数分布\"))\n",
    "    .set_series_opts(label_opts=opts.LabelOpts(formatter=\"{b}: {d}%\"))\n",
    ")\n",
    "pie.theme = 'dark'\n",
    "# pie.add(\"\", attr, v, is_label_show=True)\n",
    "pie.render_notebook()"
   ]
  },
  {
   "cell_type": "code",
   "execution_count": 32,
   "metadata": {},
   "outputs": [
    {
     "data": {
      "text/html": "\n<script>\n    require.config({\n        paths: {\n            'echarts':'https://assets.pyecharts.org/assets/echarts.min'\n        }\n    });\n</script>\n\n        <div id=\"b8f8b9561b3648cf9f51334648791ea2\" style=\"width:900px; height:500px;\"></div>\n\n<script>\n        require(['echarts'], function(echarts) {\n                var chart_b8f8b9561b3648cf9f51334648791ea2 = echarts.init(\n                    document.getElementById('b8f8b9561b3648cf9f51334648791ea2'), 'dark', {renderer: 'canvas'});\n                var option_b8f8b9561b3648cf9f51334648791ea2 = {\n    \"animation\": true,\n    \"animationThreshold\": 2000,\n    \"animationDuration\": 1000,\n    \"animationEasing\": \"cubicOut\",\n    \"animationDelay\": 0,\n    \"animationDurationUpdate\": 300,\n    \"animationEasingUpdate\": \"cubicOut\",\n    \"animationDelayUpdate\": 0,\n    \"color\": [\n        \"#c23531\",\n        \"#2f4554\",\n        \"#61a0a8\",\n        \"#d48265\",\n        \"#749f83\",\n        \"#ca8622\",\n        \"#bda29a\",\n        \"#6e7074\",\n        \"#546570\",\n        \"#c4ccd3\",\n        \"#f05b72\",\n        \"#ef5b9c\",\n        \"#f47920\",\n        \"#905a3d\",\n        \"#fab27b\",\n        \"#2a5caa\",\n        \"#444693\",\n        \"#726930\",\n        \"#b2d235\",\n        \"#6d8346\",\n        \"#ac6767\",\n        \"#1d953f\",\n        \"#6950a1\",\n        \"#918597\"\n    ],\n    \"series\": [\n        {\n            \"type\": \"pie\",\n            \"clockwise\": true,\n            \"data\": [\n                {\n                    \"name\": \"1\",\n                    \"value\": 10321\n                },\n                {\n                    \"name\": \"2\",\n                    \"value\": 2395\n                },\n                {\n                    \"name\": \"3\",\n                    \"value\": 1069\n                },\n                {\n                    \"name\": \"4\",\n                    \"value\": 69\n                },\n                {\n                    \"name\": \"5\",\n                    \"value\": 39\n                },\n                {\n                    \"name\": \"6\",\n                    \"value\": 17\n                },\n                {\n                    \"name\": \"7\",\n                    \"value\": 15\n                },\n                {\n                    \"name\": \"8\",\n                    \"value\": 2\n                },\n                {\n                    \"name\": \"9\",\n                    \"value\": 0\n                },\n                {\n                    \"name\": \"others\",\n                    \"value\": 0\n                }\n            ],\n            \"radius\": [\n                \"0%\",\n                \"75%\"\n            ],\n            \"center\": [\n                \"50%\",\n                \"50%\"\n            ],\n            \"label\": {\n                \"show\": true,\n                \"position\": \"top\",\n                \"margin\": 8,\n                \"formatter\": \"{b}---{d}%\"\n            },\n            \"rippleEffect\": {\n                \"show\": true,\n                \"brushType\": \"stroke\",\n                \"scale\": 2.5,\n                \"period\": 4\n            }\n        }\n    ],\n    \"legend\": [\n        {\n            \"data\": [\n                \"1\",\n                \"2\",\n                \"3\",\n                \"4\",\n                \"5\",\n                \"6\",\n                \"7\",\n                \"8\",\n                \"9\",\n                \"others\"\n            ],\n            \"selected\": {},\n            \"show\": true,\n            \"padding\": 5,\n            \"itemGap\": 10,\n            \"itemWidth\": 25,\n            \"itemHeight\": 14\n        }\n    ],\n    \"tooltip\": {\n        \"show\": true,\n        \"trigger\": \"item\",\n        \"triggerOn\": \"mousemove|click\",\n        \"axisPointer\": {\n            \"type\": \"line\"\n        },\n        \"showContent\": true,\n        \"alwaysShowContent\": false,\n        \"showDelay\": 0,\n        \"hideDelay\": 100,\n        \"textStyle\": {\n            \"fontSize\": 14\n        },\n        \"borderWidth\": 0,\n        \"padding\": 5\n    },\n    \"title\": [\n        {\n            \"text\": \"\\u7528\\u6237\\u53d1\\u8d34\\u6570\\u5206\\u5e03\",\n            \"padding\": 5,\n            \"itemGap\": 10\n        }\n    ]\n};\n                chart_b8f8b9561b3648cf9f51334648791ea2.setOption(option_b8f8b9561b3648cf9f51334648791ea2);\n        });\n    </script>\n",
      "text/plain": "<pyecharts.render.display.HTML at 0x11cae3f28>"
     },
     "execution_count": 32,
     "metadata": {},
     "output_type": "execute_result"
    }
   ],
   "source": [
    "from pyecharts.charts import Pie\n",
    "from pyecharts import options as opts\n",
    "\n",
    "user_topic_count_list  = Utils.get_session().query(Topic.uid,func.count(Topic.id)).filter(Topic.uid.in_(uids)).group_by(Topic.uid).order_by(func.count(Topic.id).desc()).all()\n",
    "attr = [str(i+1) for i in range(9)]\n",
    "attr.append(\"others\")\n",
    "v = [sum(user[1] == (i+1) for user in user_topic_count_list) for i in range(9)]\n",
    "v.append(sum(user[1] > 9 for user in user_topic_count_list))\n",
    "\n",
    "pie = (\n",
    "    Pie().add(\"\",[list(z) for z in zip(attr, v)])\n",
    "    .set_global_opts(title_opts=opts.TitleOpts(title=\"用户发贴数分布\"))\n",
    "    .set_series_opts(label_opts=opts.LabelOpts(formatter=\"{b}---{d}%\"))\n",
    ")\n",
    "pie.theme = 'dark'\n",
    "# pie.add(\"\", attr, v, is_label_show=True)\n",
    "pie.render_notebook()"
   ]
  },
  {
   "cell_type": "code",
   "execution_count": 33,
   "metadata": {},
   "outputs": [
    {
     "data": {
      "text/plain": "[('165457568', 8),\n ('236222402', 8),\n ('236383894', 7),\n ('62413554', 7),\n ('101724491', 7),\n ('224513942', 7),\n ('224017019', 7),\n ('203323317', 7),\n ('224015871', 7),\n ('236270149', 7),\n ('225119845', 7),\n ('v15210044009', 7),\n ('236198103', 7),\n ('235813440', 7),\n ('167877760', 7),\n ('235786273', 7),\n ('223992749', 7),\n ('50996494', 6),\n ('220214636', 6),\n ('220008343', 6),\n ('230396369', 6),\n ('218498430', 6),\n ('235941154', 6),\n ('227733418', 6),\n ('144499876', 6),\n ('195279689', 6),\n ('154575958', 6),\n ('236235604', 6),\n ('236068216', 6),\n ('233994545', 6),\n ('206430372', 6),\n ('165275725', 6),\n ('139021672', 6),\n ('236074470', 6),\n ('160202380', 5),\n ('218029208', 5),\n ('61337560', 5),\n ('184125798', 5),\n ('eddiescissors', 5),\n ('234711204', 5),\n ('201817093', 5),\n ('164755726', 5),\n ('236395438', 5),\n ('54242746', 5),\n ('236397710', 5),\n ('188527630', 5),\n ('236142702', 5),\n ('218615856', 5),\n ('229079117', 5),\n ('142122292', 5),\n ('236111457', 5),\n ('144732923', 5),\n ('147189837', 5),\n ('205134366', 5),\n ('97931692', 5),\n ('234289672', 5),\n ('53189126', 5),\n ('170775034', 5),\n ('136082731', 5),\n ('234092892', 5),\n ('236292072', 5),\n ('175819719', 5),\n ('157963478', 5),\n ('47086955', 5),\n ('226659262', 5),\n ('229109491', 5),\n ('136971070', 5),\n ('yzw365', 5),\n ('129661480', 5),\n ('yangshuo2018', 5),\n ('189098976', 5),\n ('236370900', 5),\n ('236263375', 5),\n ('192368073', 4),\n ('235269419', 4),\n ('69376130', 4),\n ('152140213', 4),\n ('228886910', 4),\n ('3310090', 4),\n ('lovelife666', 4),\n ('227569986', 4),\n ('193580245', 4),\n ('222559501', 4),\n ('161923960', 4),\n ('158863998', 4),\n ('196933251', 4),\n ('34799154', 4),\n ('234959623', 4),\n ('160103045', 4),\n ('50413813', 4),\n ('234668916', 4),\n ('zyyxx', 4),\n ('219173570', 4),\n ('235297551', 4),\n ('46654164', 4),\n ('233932229', 4),\n ('236089339', 4),\n ('201440026', 4),\n ('93460777', 4),\n ('204718255', 4),\n ('A666888999999', 4),\n ('234380348', 4),\n ('236380018', 4),\n ('169366081', 4),\n ('PCH2000', 4),\n ('143238623', 4),\n ('214938908', 4),\n ('235211824', 4),\n ('162672096', 4),\n ('220496842', 4),\n ('177535042', 4),\n ('236391167', 4),\n ('227863077', 4),\n ('234572498', 4),\n ('177261788', 4),\n ('153921645', 4),\n ('233472834', 4),\n ('168338378', 4),\n ('236324872', 4),\n ('229323211', 4),\n ('164463162', 4),\n ('176237892', 4),\n ('233882763', 4),\n ('236375354', 4),\n ('235753878', 4),\n ('222956018', 4),\n ('157948871', 4),\n ('216264997', 4),\n ('174612735', 4),\n ('235876470', 4),\n ('131934617', 4),\n ('235830008', 4),\n ('226504187', 4),\n ('203563198', 4),\n ('188681265', 4),\n ('227219101', 4),\n ('56051074', 4),\n ('skylar4ever', 4),\n ('TMAlousywang', 4),\n ('154064541', 4),\n ('181016804', 4),\n ('58627767', 4),\n ('153112572', 4),\n ('227348396', 4)]"
     },
     "execution_count": 33,
     "metadata": {},
     "output_type": "execute_result"
    }
   ],
   "source": [
    "Utils.get_session().query(Topic.uid,func.count(Topic.id)).filter(Topic.uid.in_(uids)).group_by(Topic.uid).having(func.count(Topic.id)>3).order_by(func.count(Topic.id).desc()).all()"
   ]
  }
 ],
 "metadata": {
  "kernelspec": {
   "display_name": "Python 3.7.1 64-bit ('3.7.1': pyenv)",
   "name": "python371jvsc74a57bd0a501652ba8a6a7306bc36553e8879f7f1ae96c7b36f5a85cbe92328be0c6520a"
  },
  "language_info": {
   "codemirror_mode": {
    "name": "ipython",
    "version": 3
   },
   "file_extension": ".py",
   "mimetype": "text/x-python",
   "name": "python",
   "nbconvert_exporter": "python",
   "pygments_lexer": "ipython3",
   "version": "3.7.1"
  },
  "metadata": {
   "interpreter": {
    "hash": "a501652ba8a6a7306bc36553e8879f7f1ae96c7b36f5a85cbe92328be0c6520a"
   }
  },
  "orig_nbformat": 2
 },
 "nbformat": 4,
 "nbformat_minor": 2
}